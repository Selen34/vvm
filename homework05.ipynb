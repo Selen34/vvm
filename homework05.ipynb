{
 "cells": [
  {
   "cell_type": "markdown",
   "metadata": {},
   "source": [
    "## 1. Напишите код, моделирующий выпадение поля в рулетке (с учетом поля зеро)."
   ]
  },
  {
   "cell_type": "code",
   "execution_count": 66,
   "metadata": {},
   "outputs": [],
   "source": [
    "import numpy as np\n",
    "from random import randint\n",
    "from matplotlib import pyplot as plt\n",
    "from math import factorial\n",
    "%matplotlib inline"
   ]
  },
  {
   "cell_type": "code",
   "execution_count": 25,
   "metadata": {},
   "outputs": [
    {
     "data": {
      "text/plain": [
       "7"
      ]
     },
     "execution_count": 25,
     "metadata": {},
     "output_type": "execute_result"
    }
   ],
   "source": [
    "#в рулетке 37 полей, от 0 до 36\n",
    "field = randint(0, 36)\n",
    "field"
   ]
  },
  {
   "cell_type": "markdown",
   "metadata": {},
   "source": [
    "## 2.1 Напишите код, проверяющий любую из теорем сложения или умножения вероятности на примере рулетки или подбрасывания монетки."
   ]
  },
  {
   "cell_type": "markdown",
   "metadata": {},
   "source": [
    "Пример: вероятность выпадения 2 или 3 при бросании одной игральной кости = 1/6 + 1/6 = 1/3"
   ]
  },
  {
   "cell_type": "code",
   "execution_count": 42,
   "metadata": {},
   "outputs": [
    {
     "name": "stdout",
     "output_type": "stream",
     "text": [
      "0.322\n"
     ]
    }
   ],
   "source": [
    "count = 0\n",
    "event = 0\n",
    "for i in range(1000):\n",
    "    dice = randint(1, 6)\n",
    "    if dice == 2 or dice == 3:\n",
    "        event += 1\n",
    "    count +=1\n",
    "print(event/count)        "
   ]
  },
  {
   "cell_type": "markdown",
   "metadata": {},
   "source": [
    "## 2.2 Сгенерируйте десять выборок случайных чисел х0, …, х9 и постройте гистограмму распределения случайной суммы х0+х1+ …+ х9."
   ]
  },
  {
   "cell_type": "markdown",
   "metadata": {},
   "source": [
    "**Примечание:** Вероятно, в задании опечатка. 10 испытаний слишком мало чтобы на гистограмма показывала что-то полезное, поэтому было проведено 1000 испытаний. Гистограмма приблизилась к форме нормального распределения"
   ]
  },
  {
   "cell_type": "code",
   "execution_count": 64,
   "metadata": {},
   "outputs": [],
   "source": [
    "_sum = []\n",
    "for i in range(1000):\n",
    "    tmp = []\n",
    "    for j in range(10):\n",
    "        tmp.append(randint(0, 10))\n",
    "    _sum.append(sum(tmp))"
   ]
  },
  {
   "cell_type": "code",
   "execution_count": 65,
   "metadata": {},
   "outputs": [
    {
     "data": {
      "image/png": "[encoded data removed]",
      "text/plain": [
       "<Figure size 432x288 with 1 Axes>"
      ]
     },
     "metadata": {
      "needs_background": "light"
     },
     "output_type": "display_data"
    }
   ],
   "source": [
    "plt.grid()\n",
    "plt.hist(_sum, bins=10)\n",
    "plt.show()"
   ]
  },
  {
   "cell_type": "markdown",
   "metadata": {},
   "source": [
    "## 3.1 Дополните код Монте-Карло последовательности независимых испытаний расчетом соответствующих вероятностей (через биномиальное распределение) и сравните результаты."
   ]
  },
  {
   "cell_type": "code",
   "execution_count": 67,
   "metadata": {},
   "outputs": [],
   "source": [
    "def C(n, k):\n",
    "    return factorial(n)/(factorial(k)*factorial(n-k))"
   ]
  },
  {
   "cell_type": "markdown",
   "metadata": {},
   "source": [
    "$P_n(X=k) = C_n^k p^kq^{n-k}$"
   ]
  },
  {
   "cell_type": "code",
   "execution_count": 99,
   "metadata": {},
   "outputs": [
    {
     "data": {
      "text/plain": [
       "0.07802866410507722"
      ]
     },
     "execution_count": 99,
     "metadata": {},
     "output_type": "execute_result"
    }
   ],
   "source": [
    "#вероятность что при 100 кратном бросании монеты орел выпадет ровно 51 раз:\n",
    "n = 100\n",
    "k = 51\n",
    "p = 0.5\n",
    "q = 1-p\n",
    "prob = C(n, k)*(p**k)*q**(n-k)\n",
    "prob"
   ]
  },
  {
   "cell_type": "code",
   "execution_count": 96,
   "metadata": {},
   "outputs": [],
   "source": [
    "#вероятность что при 100 кратном бросании монеты орел выпадет ровно n раз:\n",
    "p_arr = []\n",
    "for i in range(100):\n",
    "    p_arr.append(C(n, i)*(p**i)*q**(n-i))"
   ]
  },
  {
   "cell_type": "code",
   "execution_count": 98,
   "metadata": {},
   "outputs": [
    {
     "data": {
      "text/plain": [
       "[<matplotlib.lines.Line2D at 0x1e6ec2850f0>]"
      ]
     },
     "execution_count": 98,
     "metadata": {},
     "output_type": "execute_result"
    },
    {
     "data": {
      "image/png": "[encoded data removed]",
      "text/plain": [
       "<Figure size 432x288 with 1 Axes>"
      ]
     },
     "metadata": {
      "needs_background": "light"
     },
     "output_type": "display_data"
    }
   ],
   "source": [
    "plt.grid()\n",
    "plt.plot(p_arr)"
   ]
  },
  {
   "cell_type": "markdown",
   "metadata": {},
   "source": [
    "**Симуляция Монте-Карло:**"
   ]
  },
  {
   "cell_type": "code",
   "execution_count": 110,
   "metadata": {},
   "outputs": [
    {
     "name": "stdout",
     "output_type": "stream",
     "text": [
      "0.0751\n"
     ]
    }
   ],
   "source": [
    "n = 100\n",
    "k = 51\n",
    "count = 0\n",
    "size = 10000\n",
    "for i in range(size):\n",
    "    target = 0\n",
    "    for j in range(n):\n",
    "        event = randint(0, 1)\n",
    "        if event == 1:\n",
    "            target += 1\n",
    "    if target == k:\n",
    "        count += 1\n",
    "print(count/size)"
   ]
  },
  {
   "cell_type": "markdown",
   "metadata": {},
   "source": [
    "## 3.2 Повторите расчеты биномиальных коэффициентов и вероятностей k успехов в последовательности из n независимых испытаний, взяв другие значения n и k"
   ]
  },
  {
   "cell_type": "code",
   "execution_count": 111,
   "metadata": {},
   "outputs": [
    {
     "data": {
      "text/plain": [
       "0.00023247133474277857"
      ]
     },
     "execution_count": 111,
     "metadata": {},
     "output_type": "execute_result"
    }
   ],
   "source": [
    "#вероятность что при 100 кратном бросании монеты орел выпадет ровно 33 разa:\n",
    "n = 100\n",
    "k = 33\n",
    "p = 0.5\n",
    "q = 1-p\n",
    "prob = C(n, k)*(p**k)*q**(n-k)\n",
    "prob"
   ]
  },
  {
   "cell_type": "code",
   "execution_count": 112,
   "metadata": {},
   "outputs": [
    {
     "name": "stdout",
     "output_type": "stream",
     "text": [
      "0.0002\n"
     ]
    }
   ],
   "source": [
    "n = 100\n",
    "k = 33\n",
    "count = 0\n",
    "size = 10000\n",
    "for i in range(size):\n",
    "    target = 0\n",
    "    for j in range(n):\n",
    "        event = randint(0, 1)\n",
    "        if event == 1:\n",
    "            target += 1\n",
    "    if target == k:\n",
    "        count += 1\n",
    "print(count/size)"
   ]
  },
  {
   "cell_type": "markdown",
   "metadata": {},
   "source": [
    "## 4. Из урока по комбинаторике повторите расчеты, сгенерировав возможные варианты перестановок для других значений n и k\n"
   ]
  },
  {
   "cell_type": "code",
   "execution_count": 113,
   "metadata": {},
   "outputs": [],
   "source": [
    "import itertools"
   ]
  },
  {
   "cell_type": "code",
   "execution_count": 120,
   "metadata": {},
   "outputs": [
    {
     "name": "stdout",
     "output_type": "stream",
     "text": [
      "ab\n",
      "ac\n",
      "ba\n",
      "bc\n",
      "ca\n",
      "cb\n",
      "COUNT: 6\n"
     ]
    }
   ],
   "source": [
    "count = 0\n",
    "for p in itertools.permutations(\"abc\", 2):\n",
    "    count += 1\n",
    "    print(\"\".join(p))\n",
    "print('COUNT:', count)"
   ]
  },
  {
   "cell_type": "code",
   "execution_count": 122,
   "metadata": {},
   "outputs": [
    {
     "name": "stdout",
     "output_type": "stream",
     "text": [
      "qwe\n",
      "qwr\n",
      "qwt\n",
      "qwy\n",
      "qer\n",
      "qet\n",
      "qey\n",
      "qrt\n",
      "qry\n",
      "qty\n",
      "wer\n",
      "wet\n",
      "wey\n",
      "wrt\n",
      "wry\n",
      "wty\n",
      "ert\n",
      "ery\n",
      "ety\n",
      "rty\n",
      "COUNT: 20\n"
     ]
    }
   ],
   "source": [
    "count = 0\n",
    "for p in itertools.combinations(\"qwerty\", 3):\n",
    "    print(\"\".join(p))\n",
    "    count += 1\n",
    "print('COUNT:', count)    "
   ]
  },
  {
   "cell_type": "markdown",
   "metadata": {},
   "source": [
    "## 5. Дополните код расчетом коэффициента корреляции x и y по формуле\n"
   ]
  },
  {
   "cell_type": "markdown",
   "metadata": {},
   "source": [
    "Задание непонятно - какой код? `¯\\_(ツ)_/¯`"
   ]
  }
 ],
 "metadata": {
  "kernelspec": {
   "display_name": "Python 3",
   "language": "python",
   "name": "python3"
  },
  "language_info": {
   "codemirror_mode": {
    "name": "ipython",
    "version": 3
   },
   "file_extension": ".py",
   "mimetype": "text/x-python",
   "name": "python",
   "nbconvert_exporter": "python",
   "pygments_lexer": "ipython3",
   "version": "3.7.3"
  }
 },
 "nbformat": 4,
 "nbformat_minor": 2
}
